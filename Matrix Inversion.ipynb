{
 "cells": [
  {
   "cell_type": "markdown",
   "id": "5938e539",
   "metadata": {},
   "source": [
    "# Low Dimension Matrix Inversion"
   ]
  },
  {
   "cell_type": "markdown",
   "id": "81fb4b3e",
   "metadata": {},
   "source": [
    "This is a short and simple notebook which illustrates analytical inversion of 2x2 matrices using Python. <br>"
   ]
  },
  {
   "cell_type": "markdown",
   "id": "2b1878f0",
   "metadata": {},
   "source": [
    "It includes both: \n",
    "* A <mark> direct code</mark> approach. _(Not recommneded)_\n",
    "* A <mark> function</mark> approach."
   ]
  },
  {
   "cell_type": "markdown",
   "id": "304e55ae",
   "metadata": {},
   "source": [
    "For reference, we will define our matrix like so. Let $A \\in \\mathbb{R}^{2 \\times 2}$. <br><br>\n",
    "    \\begin{equation*}\n",
    "    A = \n",
    "    \\begin{pmatrix}\n",
    "    a & b \\\\\n",
    "    c & d\n",
    "    \\end{pmatrix}\n",
    "    \\end{equation*}."
   ]
  },
  {
   "cell_type": "markdown",
   "id": "41cd9b70",
   "metadata": {},
   "source": [
    "### 1.1 Mathematical method"
   ]
  },
  {
   "cell_type": "markdown",
   "id": "6b5cf80a",
   "metadata": {},
   "source": [
    "To compute the inverse of our 2x2 matrix, $A^{-1}$, we must first compute the determinant."
   ]
  },
  {
   "cell_type": "markdown",
   "id": "3a949db1",
   "metadata": {},
   "source": [
    "$det(A) = ad - bc$"
   ]
  },
  {
   "cell_type": "markdown",
   "id": "42b0461b",
   "metadata": {},
   "source": [
    "We then need to alter the signs and positions of the elements of our matrix. <br>\n",
    "* We swap the elements on the positive diagonal, a = position (1,1) and d = (2,2).\n",
    "* We change the sign of the elements of the negative diagonal, b = position (1,2) and c = position (2,1)."
   ]
  },
  {
   "cell_type": "markdown",
   "id": "98c9d785",
   "metadata": {},
   "source": [
    "Finally, we multiply through by $\\frac{1}{det(A)}$, which gives our complete formula for matrix inversion."
   ]
  },
  {
   "cell_type": "markdown",
   "id": "0b7c30b4",
   "metadata": {},
   "source": [
    "\\begin{equation*}\n",
    "    A^{-1} = \\frac{1}{ad - bc}\n",
    "    \\begin{pmatrix}\n",
    "    d & -b\\\\\n",
    "    -c & a\n",
    "    \\end{pmatrix}\n",
    "\\end{equation*}"
   ]
  },
  {
   "cell_type": "markdown",
   "id": "7891e7a2",
   "metadata": {},
   "source": [
    "### 1.2 Direct Approach"
   ]
  },
  {
   "cell_type": "code",
   "execution_count": null,
   "id": "be3cc5f6",
   "metadata": {},
   "outputs": [],
   "source": [
    "print('2x2 Matrix Inverter\\n')\n",
    "\n",
    "a = float(input('Input a: '))\n",
    "b = float(input('Input b: '))\n",
    "c = float(input('Input c: '))\n",
    "d = float(input('Input d: '))\n",
    "\n",
    "matrix = [[a , b] , [c , d]]\n",
    "print('\\nYour matrix:\\n')\n",
    "print(matrix[0],'\\n',matrix[1])\n",
    "\n",
    "det = ((a * d) - (b * c))\n",
    "print('\\nDeterminant: ', det)\n",
    "\n",
    "if det == 0:\n",
    "    print('\\nMatrix is singular.')\n",
    "else:\n",
    "    inv_matrix = [[(d/det) , (-1*b/det)] , [(-1*c/det) , (a/det)]]\n",
    "    print('\\nInverse:\\n')\n",
    "    print(inv_matrix[0],'\\n',inv_matrix[1])"
   ]
  },
  {
   "cell_type": "markdown",
   "id": "d5ad24d1",
   "metadata": {},
   "source": [
    "### 1.3 Using a Function"
   ]
  },
  {
   "cell_type": "code",
   "execution_count": null,
   "id": "2b66585f",
   "metadata": {},
   "outputs": [],
   "source": [
    "def twobytwoinversion(a,b,c,d):\n",
    "    a, b, c, d = float(a), float(b), float(c), float(d)\n",
    "\n",
    "    matrix = [[a , b] , [c , d]]\n",
    "    print('\\nYour matrix:\\n')\n",
    "    print(matrix[0],'\\n',matrix[1])\n",
    "\n",
    "    det = ((a * d) - (b * c))\n",
    "    print('\\nDeterminant: ', det)\n",
    "\n",
    "    if det == 0:\n",
    "        print('\\nMatrix is singular.')\n",
    "    else:\n",
    "        inv_matrix = [[(d/det) , (-1*b/det)] , [(-1*c/det) , (a/det)]]\n",
    "        print('\\nInverse:\\n')\n",
    "        print(inv_matrix[0],'\\n',inv_matrix[1])"
   ]
  },
  {
   "cell_type": "markdown",
   "id": "d055b11d",
   "metadata": {},
   "source": [
    "### 1.4 Example"
   ]
  },
  {
   "cell_type": "code",
   "execution_count": null,
   "id": "0fb14b37",
   "metadata": {},
   "outputs": [],
   "source": [
    "twobytwoinversion(1,3,2,4)"
   ]
  },
  {
   "cell_type": "markdown",
   "id": "e3107748",
   "metadata": {},
   "source": [
    "__Exercise:__ Confirm the result using the steps above on paper."
   ]
  }
 ],
 "metadata": {
  "kernelspec": {
   "display_name": "Python 3 (ipykernel)",
   "language": "python",
   "name": "python3"
  },
  "language_info": {
   "codemirror_mode": {
    "name": "ipython",
    "version": 3
   },
   "file_extension": ".py",
   "mimetype": "text/x-python",
   "name": "python",
   "nbconvert_exporter": "python",
   "pygments_lexer": "ipython3",
   "version": "3.9.7"
  },
  "latex_envs": {
   "LaTeX_envs_menu_present": true,
   "autoclose": false,
   "autocomplete": true,
   "bibliofile": "biblio.bib",
   "cite_by": "apalike",
   "current_citInitial": 1,
   "eqLabelWithNumbers": true,
   "eqNumInitial": 1,
   "hotkeys": {
    "equation": "Ctrl-E",
    "itemize": "Ctrl-I"
   },
   "labels_anchors": false,
   "latex_user_defs": false,
   "report_style_numbering": false,
   "user_envs_cfg": false
  }
 },
 "nbformat": 4,
 "nbformat_minor": 5
}
